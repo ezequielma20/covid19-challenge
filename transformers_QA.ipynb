{
 "cells": [
  {
   "cell_type": "markdown",
   "metadata": {},
   "source": [
    "El paquete transformers de Hugging Face utiliza modelos preentrenados de BERT para realizar tareas de NLP\n",
    "\n",
    "https://huggingface.co/transformers/quickstart.html\n"
   ]
  },
  {
   "cell_type": "code",
   "execution_count": null,
   "metadata": {},
   "outputs": [],
   "source": [
    "import os\n",
    "import sys\n",
    "\n",
    "import pandas as pd\n",
    "import numpy as np\n",
    "\n",
    "import torch\n",
    "\n",
    "from transformers import AutoTokenizer, AutoModelForQuestionAnswering\n"
   ]
  },
  {
   "cell_type": "markdown",
   "metadata": {},
   "source": [
    "Se descarga el modelo preentrenado, esto descarga los pesos de un modelo preentrenado con BERT.\n",
    "\n",
    "(La primera vez que se corre baja un modelo de 13GB)"
   ]
  },
  {
   "cell_type": "code",
   "execution_count": 8,
   "metadata": {},
   "outputs": [],
   "source": [
    "tokenizer = AutoTokenizer.from_pretrained(\"bert-large-uncased-whole-word-masking-finetuned-squad\")\n",
    "model = AutoModelForQuestionAnswering.from_pretrained(\"bert-large-uncased-whole-word-masking-finetuned-squad\")"
   ]
  },
  {
   "cell_type": "markdown",
   "metadata": {},
   "source": [
    "Cargo los datos ya convertidos a dataframe"
   ]
  },
  {
   "cell_type": "code",
   "execution_count": 18,
   "metadata": {},
   "outputs": [
    {
     "name": "stdout",
     "output_type": "stream",
     "text": [
      "Wall time: 17.6 s\n"
     ]
    }
   ],
   "source": [
    "%%time\n",
    "df_path = 'D:\\DS\\COVID\\outputs'\n",
    "\n",
    "df = pd.read_csv(os.path.join(df_path, 'result.csv'), \n",
    "                 dtype={'title_x': str, 'abstract_x': str, 'body_text': str, 'has_full_text': str\n",
    "                       }\n",
    "                )"
   ]
  },
  {
   "cell_type": "code",
   "execution_count": null,
   "metadata": {},
   "outputs": [],
   "source": [
    "texts = df[df['abstract_y'].notnull()]['abstract_y'].tail(10) # Pruebo con pocos textos"
   ]
  },
  {
   "cell_type": "markdown",
   "metadata": {},
   "source": [
    "Creo un conjunto de preguntas"
   ]
  },
  {
   "cell_type": "code",
   "execution_count": 44,
   "metadata": {},
   "outputs": [],
   "source": [
    "questions = [\n",
    "    \"What strategies are effective to prevent secondary transmission?\",\n",
    "    \"What is the incubation period?\",\n",
    "    \"What is the incubation period across age and health status?\",\n",
    "    \"How long individuals are contagious?\"\n",
    "]\n"
   ]
  },
  {
   "cell_type": "markdown",
   "metadata": {},
   "source": [
    "Busco las preguntas en los textos.\n",
    "\n",
    "Este proceso devuelve dos tokens, que son los que tienen mayor probabilidad de ser el comienzo y el fin de la respuesta.  Luego, la respuesta estará entre estos dos tokens."
   ]
  },
  {
   "cell_type": "code",
   "execution_count": 43,
   "metadata": {
    "scrolled": true
   },
   "outputs": [
    {
     "name": "stdout",
     "output_type": "stream",
     "text": [
      "Question: What strategies are effective to prevent secondary transmission?\n",
      "Answer: hospitalisation and isolation\n",
      "\n",
      "Question: What strategies are effective to prevent secondary transmission?\n",
      "Answer: [CLS]\n",
      "\n",
      "Question: What strategies are effective to prevent secondary transmission?\n",
      "Answer: [CLS]\n",
      "\n",
      "Question: What strategies are effective to prevent secondary transmission?\n",
      "Answer: [CLS]\n",
      "\n",
      "Question: What strategies are effective to prevent secondary transmission?\n",
      "Answer: [CLS]\n",
      "\n",
      "Question: What strategies are effective to prevent secondary transmission?\n",
      "Answer: surface disinfection\n",
      "\n",
      "Question: What strategies are effective to prevent secondary transmission?\n",
      "Answer: [CLS]\n",
      "\n",
      "Question: What strategies are effective to prevent secondary transmission?\n",
      "Answer: [CLS]\n",
      "\n",
      "Question: What strategies are effective to prevent secondary transmission?\n",
      "Answer: [CLS]\n",
      "\n",
      "Question: What strategies are effective to prevent secondary transmission?\n",
      "Answer: [CLS]\n",
      "\n",
      "Question: What are effective movement control strategies?\n",
      "Answer: [CLS] what are effective movement control strategies ? [SEP]\n",
      "\n",
      "Question: What are effective movement control strategies?\n",
      "Answer: [CLS]\n",
      "\n",
      "Question: What are effective movement control strategies?\n",
      "Answer: [CLS]\n",
      "\n",
      "Question: What are effective movement control strategies?\n",
      "Answer: [CLS] what are effective movement control strategies ? [SEP]\n",
      "\n",
      "Question: What are effective movement control strategies?\n",
      "Answer: [CLS] what are effective movement control strategies ? [SEP]\n",
      "\n",
      "Question: What are effective movement control strategies?\n",
      "Answer: \n",
      "\n",
      "Question: What are effective movement control strategies?\n",
      "Answer: [CLS] what are effective movement control strategies ? [SEP]\n",
      "\n",
      "Question: What are effective movement control strategies?\n",
      "Answer: [CLS]\n",
      "\n",
      "Question: What are effective movement control strategies?\n",
      "Answer: [CLS]\n",
      "\n",
      "Question: What are effective movement control strategies?\n",
      "Answer: [CLS] what are effective movement control strategies ? [SEP]\n",
      "\n",
      "Question: What is the incubation period?\n",
      "Answer: 5 . 2 days\n",
      "\n",
      "Question: What is the incubation period?\n",
      "Answer: [CLS]\n",
      "\n",
      "Question: What is the incubation period?\n",
      "Answer: [CLS] what is the incubation period ? [SEP]\n",
      "\n",
      "Question: What is the incubation period?\n",
      "Answer: [SEP]\n",
      "\n",
      "Question: What is the incubation period?\n",
      "Answer: [CLS]\n",
      "\n",
      "Question: What is the incubation period?\n",
      "Answer: 9 days\n",
      "\n",
      "Question: What is the incubation period?\n",
      "Answer: [CLS] what is the incubation period ? [SEP]\n",
      "\n",
      "Question: What is the incubation period?\n",
      "Answer: [CLS]\n",
      "\n",
      "Question: What is the incubation period?\n",
      "Answer: [CLS] what is the incubation period ? [SEP] background : pneumonia is a leading cause of morbidity and mortality in children worldwide ; however , its diagnosis can be challenging , especially in settings where skilled clinicians or standard imaging are unavailable . we sought to determine the diagnostic accuracy of lung ultrasound when compared to radiographically - confirmed clinical pediatric pneumonia . methods : between january 2012 and september 2013 , we consecutively enrolled children aged 2 – 59 months\n",
      "\n",
      "Question: What is the incubation period?\n",
      "Answer: [CLS] what is the incubation period ? [SEP]\n",
      "\n",
      "Question: What is the incubation period across age and health status?\n",
      "Answer: 5 . 2 days\n",
      "\n",
      "Question: What is the incubation period across age and health status?\n",
      "Answer: [CLS] what is the incubation period across age and health status ? [SEP]\n",
      "\n",
      "Question: What is the incubation period across age and health status?\n",
      "Answer: [CLS]\n",
      "\n",
      "Question: What is the incubation period across age and health status?\n",
      "Answer: [CLS] what is the incubation period across age and health status ? [SEP]\n",
      "\n",
      "Question: What is the incubation period across age and health status?\n",
      "Answer: [CLS] what is the incubation period across age and health status ? [SEP]\n",
      "\n",
      "Question: What is the incubation period across age and health status?\n",
      "Answer: 9 days\n",
      "\n",
      "Question: What is the incubation period across age and health status?\n",
      "Answer: [CLS] what is the incubation period across age and health status ? [SEP]\n",
      "\n",
      "Question: What is the incubation period across age and health status?\n",
      "Answer: [CLS]\n",
      "\n",
      "Question: What is the incubation period across age and health status?\n",
      "Answer: [CLS] what is the incubation period across age and health status ? [SEP] background : pneumonia is a leading cause of morbidity and mortality in children worldwide ; however , its diagnosis can be challenging , especially in settings where skilled clinicians or standard imaging are unavailable . we sought to determine the diagnostic accuracy of lung ultrasound when compared to radiographically - confirmed clinical pediatric pneumonia . methods : between january 2012 and september 2013 , we consecutively enrolled children aged 2 – 59 months\n",
      "\n",
      "Question: What is the incubation period across age and health status?\n",
      "Answer: [CLS] what is the incubation period across age and health status ? [SEP]\n",
      "\n",
      "Question: How long individuals are contagious?\n",
      "Answer: 5 . 2 days\n",
      "\n",
      "Question: How long individuals are contagious?\n",
      "Answer: [CLS]\n",
      "\n",
      "Question: How long individuals are contagious?\n",
      "Answer: [CLS]\n",
      "\n",
      "Question: How long individuals are contagious?\n",
      "Answer: [CLS]\n",
      "\n",
      "Question: How long individuals are contagious?\n",
      "Answer: \n",
      "\n",
      "Question: How long individuals are contagious?\n",
      "Answer: up to 9 days\n",
      "\n",
      "Question: How long individuals are contagious?\n",
      "Answer: [CLS] how long individuals are contagious ? [SEP]\n",
      "\n",
      "Question: How long individuals are contagious?\n",
      "Answer: [CLS]\n",
      "\n",
      "Question: How long individuals are contagious?\n",
      "Answer: \n",
      "\n",
      "Question: How long individuals are contagious?\n",
      "Answer: [CLS]\n",
      "\n"
     ]
    }
   ],
   "source": [
    "for question in questions:\n",
    "    for text in texts:\n",
    "        inputs = tokenizer.encode_plus(question, text, add_special_tokens=True, return_tensors=\"pt\",\n",
    "                                       max_length=511, truncation_strategy='longest_first')\n",
    "        input_ids = inputs[\"input_ids\"].tolist()[0]\n",
    "\n",
    "        text_tokens = tokenizer.convert_ids_to_tokens(input_ids)\n",
    "        answer_start_scores, answer_end_scores = model(**inputs)\n",
    "\n",
    "        answer_start = torch.argmax(\n",
    "            answer_start_scores\n",
    "        )  # Obtiene el token con mayor probabilidad de ser comienzo de respuesta\n",
    "        answer_end = torch.argmax(answer_end_scores) + 1  # Obtiene el token con mayor probabilidad de ser fin de respuesta\n",
    "\n",
    "        answer = tokenizer.convert_tokens_to_string(tokenizer.convert_ids_to_tokens(input_ids[answer_start:answer_end]))\n",
    "\n",
    "        print(f\"Question: {question}\")\n",
    "        print(f\"Answer: {answer}\\n\")"
   ]
  },
  {
   "cell_type": "code",
   "execution_count": null,
   "metadata": {},
   "outputs": [],
   "source": []
  }
 ],
 "metadata": {
  "kernelspec": {
   "display_name": "Python 3",
   "language": "python",
   "name": "python3"
  },
  "language_info": {
   "codemirror_mode": {
    "name": "ipython",
    "version": 3
   },
   "file_extension": ".py",
   "mimetype": "text/x-python",
   "name": "python",
   "nbconvert_exporter": "python",
   "pygments_lexer": "ipython3",
   "version": "3.7.7"
  }
 },
 "nbformat": 4,
 "nbformat_minor": 4
}
