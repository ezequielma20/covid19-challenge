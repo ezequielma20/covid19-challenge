{
 "cells": [
  {
   "cell_type": "markdown",
   "metadata": {},
   "source": [
    "## Aplicación del tokenizador de BERT a los textos del dataset"
   ]
  },
  {
   "cell_type": "code",
   "execution_count": 1,
   "metadata": {},
   "outputs": [],
   "source": [
    "import pandas as pd\n",
    "import numpy as np\n",
    "import os\n",
    "import sys"
   ]
  },
  {
   "cell_type": "code",
   "execution_count": 3,
   "metadata": {},
   "outputs": [],
   "source": [
    "# Para poder usar BERT, hago un clone del repositorio que contiene todos los modulos y agrego el directorio al path\n",
    "# git clone https://github.com/google-research/bert bert\n",
    "if not 'bert' in sys.path:\n",
    "  sys.path += ['bert']\n",
    "\n",
    "import tokenization"
   ]
  },
  {
   "cell_type": "markdown",
   "metadata": {},
   "source": [
    "A continuación configuro las directorios donde se encuentra el modelo pre-entrenado.\n",
    "\n",
    "Los links para descargar los modelos están en:\n",
    "https://github.com/google-research/bert\n",
    "\n",
    "Hay distintos modelos pre-entrenados con distinta cantidad de capas.  A mayor cantidad de capas el entrenamiento toma mas tiempo.  Por esto comienzo haciendo las pruebas con modelos mas basicos, en este caso el uncased_L-2_H-128_A-2."
   ]
  },
  {
   "cell_type": "code",
   "execution_count": 4,
   "metadata": {},
   "outputs": [],
   "source": [
    "bert_path = 'D:\\DS\\COVID\\BERT models'\n",
    "BERT_MODEL = 'uncased_L-2_H-128_A-2'\n",
    "BERT_PRETRAINED_DIR = os.path.join(bert_path, BERT_MODEL)\n",
    "\n",
    "VOCAB_FILE = os.path.join(BERT_PRETRAINED_DIR, 'vocab.txt')\n",
    "DO_LOWER_CASE = BERT_MODEL.startswith('uncased')"
   ]
  },
  {
   "cell_type": "markdown",
   "metadata": {},
   "source": [
    "Pruebo el tokenizador de BERT\n"
   ]
  },
  {
   "cell_type": "code",
   "execution_count": 5,
   "metadata": {},
   "outputs": [
    {
     "name": "stdout",
     "output_type": "stream",
     "text": [
      "['call', 'to', 'action', 'to', 'the', 'tech', 'community', 'on', 'new', 'machine', 'read', '##able', 'co', '##vid', '-', '19', 'data', '##set']\n",
      "[2655, 2000, 2895, 2000, 1996, 6627, 2451, 2006, 2047, 3698, 3191, 3085, 2522, 17258, 1011, 2539, 2951, 13462]\n"
     ]
    }
   ],
   "source": [
    "tokenizer = tokenization.FullTokenizer(vocab_file=VOCAB_FILE, do_lower_case=DO_LOWER_CASE)\n",
    "result = tokenizer.tokenize(\"Call to Action to the Tech Community on New Machine Readable COVID-19 Dataset\")\n",
    "\n",
    "print(result)\n",
    "print(tokenizer.convert_tokens_to_ids(result))"
   ]
  },
  {
   "cell_type": "markdown",
   "metadata": {},
   "source": [
    "Creo una función para usar el tokenizer en todos los textos"
   ]
  },
  {
   "cell_type": "code",
   "execution_count": 7,
   "metadata": {},
   "outputs": [],
   "source": [
    "def tokenize_text(text):\n",
    "    return tokenizer.convert_tokens_to_ids(tokenizer.tokenize(text))"
   ]
  },
  {
   "cell_type": "markdown",
   "metadata": {},
   "source": [
    "Cargo los datos ya convertidos a dataframe"
   ]
  },
  {
   "cell_type": "code",
   "execution_count": 9,
   "metadata": {},
   "outputs": [],
   "source": [
    "%%time\n",
    "df_path = 'D:\\DS\\COVID\\outputs'\n",
    "\n",
    "df = pd.read_csv(os.path.join(df_path, 'result.csv'), \n",
    "                 dtype={'title_x': str, 'abstract_x': str, 'body_text': str, 'has_full_text': str\n",
    "                       }\n",
    "                )"
   ]
  },
  {
   "cell_type": "code",
   "execution_count": 10,
   "metadata": {},
   "outputs": [
    {
     "data": {
      "text/html": [
       "<div>\n",
       "<style scoped>\n",
       "    .dataframe tbody tr th:only-of-type {\n",
       "        vertical-align: middle;\n",
       "    }\n",
       "\n",
       "    .dataframe tbody tr th {\n",
       "        vertical-align: top;\n",
       "    }\n",
       "\n",
       "    .dataframe thead th {\n",
       "        text-align: right;\n",
       "    }\n",
       "</style>\n",
       "<table border=\"1\" class=\"dataframe\">\n",
       "  <thead>\n",
       "    <tr style=\"text-align: right;\">\n",
       "      <th></th>\n",
       "      <th>sha</th>\n",
       "      <th>title_x</th>\n",
       "      <th>abstract_x</th>\n",
       "      <th>body_text</th>\n",
       "      <th>source_x</th>\n",
       "      <th>title_y</th>\n",
       "      <th>doi</th>\n",
       "      <th>pmcid</th>\n",
       "      <th>pubmed_id</th>\n",
       "      <th>license</th>\n",
       "      <th>abstract_y</th>\n",
       "      <th>publish_time</th>\n",
       "      <th>authors</th>\n",
       "      <th>journal</th>\n",
       "      <th>Microsoft Academic Paper ID</th>\n",
       "      <th>WHO #Covidence</th>\n",
       "      <th>has_full_text</th>\n",
       "      <th>full_text_file</th>\n",
       "    </tr>\n",
       "  </thead>\n",
       "  <tbody>\n",
       "    <tr>\n",
       "      <th>0</th>\n",
       "      <td>ffed5d2a31a0c1a0db11905fe378e7735b6d70ca</td>\n",
       "      <td>Supplemental material for the paper \"Evidence ...</td>\n",
       "      <td>Israel. *Corresponding author (TT): tamirtul@p...</td>\n",
       "      <td>20min). We trimmed the poly-A adaptors from th...</td>\n",
       "      <td>NaN</td>\n",
       "      <td>NaN</td>\n",
       "      <td>NaN</td>\n",
       "      <td>NaN</td>\n",
       "      <td>NaN</td>\n",
       "      <td>NaN</td>\n",
       "      <td>NaN</td>\n",
       "      <td>NaN</td>\n",
       "      <td>NaN</td>\n",
       "      <td>NaN</td>\n",
       "      <td>NaN</td>\n",
       "      <td>NaN</td>\n",
       "      <td>NaN</td>\n",
       "      <td>NaN</td>\n",
       "    </tr>\n",
       "    <tr>\n",
       "      <th>1</th>\n",
       "      <td>ffe718db1820f27bf274e3fc519ab78e450de288</td>\n",
       "      <td>Replication enhancer elements within the open ...</td>\n",
       "      <td>We provide experimental evidence of a replicat...</td>\n",
       "      <td>Tick-borne encephalitis virus (TBEV) is a huma...</td>\n",
       "      <td>PMC</td>\n",
       "      <td>Replication enhancer elements within the open ...</td>\n",
       "      <td>10.1093/nar/gkr237</td>\n",
       "      <td>PMC3303483</td>\n",
       "      <td>21622960.0</td>\n",
       "      <td>cc-by-nc</td>\n",
       "      <td>We provide experimental evidence of a replicat...</td>\n",
       "      <td>2011 Sep 27</td>\n",
       "      <td>Tuplin, A.; Evans, D. J.; Buckley, A.; Jones, ...</td>\n",
       "      <td>Nucleic Acids Res</td>\n",
       "      <td>NaN</td>\n",
       "      <td>NaN</td>\n",
       "      <td>True</td>\n",
       "      <td>noncomm_use_subset</td>\n",
       "    </tr>\n",
       "  </tbody>\n",
       "</table>\n",
       "</div>"
      ],
      "text/plain": [
       "                                        sha  \\\n",
       "0  ffed5d2a31a0c1a0db11905fe378e7735b6d70ca   \n",
       "1  ffe718db1820f27bf274e3fc519ab78e450de288   \n",
       "\n",
       "                                             title_x  \\\n",
       "0  Supplemental material for the paper \"Evidence ...   \n",
       "1  Replication enhancer elements within the open ...   \n",
       "\n",
       "                                          abstract_x  \\\n",
       "0  Israel. *Corresponding author (TT): tamirtul@p...   \n",
       "1  We provide experimental evidence of a replicat...   \n",
       "\n",
       "                                           body_text source_x  \\\n",
       "0  20min). We trimmed the poly-A adaptors from th...      NaN   \n",
       "1  Tick-borne encephalitis virus (TBEV) is a huma...      PMC   \n",
       "\n",
       "                                             title_y                 doi  \\\n",
       "0                                                NaN                 NaN   \n",
       "1  Replication enhancer elements within the open ...  10.1093/nar/gkr237   \n",
       "\n",
       "        pmcid   pubmed_id   license  \\\n",
       "0         NaN         NaN       NaN   \n",
       "1  PMC3303483  21622960.0  cc-by-nc   \n",
       "\n",
       "                                          abstract_y publish_time  \\\n",
       "0                                                NaN          NaN   \n",
       "1  We provide experimental evidence of a replicat...  2011 Sep 27   \n",
       "\n",
       "                                             authors            journal  \\\n",
       "0                                                NaN                NaN   \n",
       "1  Tuplin, A.; Evans, D. J.; Buckley, A.; Jones, ...  Nucleic Acids Res   \n",
       "\n",
       "   Microsoft Academic Paper ID WHO #Covidence has_full_text  \\\n",
       "0                          NaN            NaN           NaN   \n",
       "1                          NaN            NaN          True   \n",
       "\n",
       "       full_text_file  \n",
       "0                 NaN  \n",
       "1  noncomm_use_subset  "
      ]
     },
     "execution_count": 10,
     "metadata": {},
     "output_type": "execute_result"
    }
   ],
   "source": [
    "df.head(2)"
   ]
  },
  {
   "cell_type": "markdown",
   "metadata": {},
   "source": [
    "Aplico a los abstracts"
   ]
  },
  {
   "cell_type": "code",
   "execution_count": 43,
   "metadata": {},
   "outputs": [
    {
     "name": "stdout",
     "output_type": "stream",
     "text": [
      "Wall time: 2min 17s\n"
     ]
    }
   ],
   "source": [
    "%%time\n",
    "# aplico a todos los abstracts\n",
    "abstracts = df[df['abstract_y'].notnull()]['abstract_y']\n",
    "tokenized_abstract = [tokenize_text(text) for text in abstracts]\n",
    "len(tokenized_abstract)"
   ]
  },
  {
   "cell_type": "markdown",
   "metadata": {},
   "source": [
    "Aplico a los textos completos\n"
   ]
  },
  {
   "cell_type": "code",
   "execution_count": 47,
   "metadata": {},
   "outputs": [
    {
     "name": "stdout",
     "output_type": "stream",
     "text": [
      "Wall time: 48min 11s\n"
     ]
    }
   ],
   "source": [
    "%%time\n",
    "# aplico a todos los body texts\n",
    "body_texts = df[df['body_text'].notnull()]['body_text']\n",
    "tokenized_body = [tokenize_text(text) for text in body_texts]\n",
    "len(tokenized_body)"
   ]
  },
  {
   "cell_type": "markdown",
   "metadata": {},
   "source": [
    "Guardo en csv <--- Creo que existe algún formato más adecuado para esto, falta investigarlo."
   ]
  },
  {
   "cell_type": "code",
   "execution_count": 59,
   "metadata": {},
   "outputs": [
    {
     "name": "stdout",
     "output_type": "stream",
     "text": [
      "Wall time: 52.5 s\n"
     ]
    }
   ],
   "source": [
    "%%time\n",
    "df_body_token = pd.DataFrame (np.array(tokenized_body), columns = ['body'])\n",
    "df_body_token.to_csv(os.path.join(df_path, 'tokenized_body.csv'), index=False)"
   ]
  },
  {
   "cell_type": "code",
   "execution_count": 58,
   "metadata": {},
   "outputs": [
    {
     "name": "stdout",
     "output_type": "stream",
     "text": [
      "Wall time: 2.91 s\n"
     ]
    }
   ],
   "source": [
    "%%time\n",
    "df_abs_token = pd.DataFrame (np.array(tokenized_abstract), columns = ['abstract'])\n",
    "df_abs_token.to_csv(os.path.join(df_path, 'tokenized_abstract.csv'), index=False)"
   ]
  },
  {
   "cell_type": "code",
   "execution_count": null,
   "metadata": {},
   "outputs": [],
   "source": []
  }
 ],
 "metadata": {
  "kernelspec": {
   "display_name": "Python 3",
   "language": "python",
   "name": "python3"
  },
  "language_info": {
   "codemirror_mode": {
    "name": "ipython",
    "version": 3
   },
   "file_extension": ".py",
   "mimetype": "text/x-python",
   "name": "python",
   "nbconvert_exporter": "python",
   "pygments_lexer": "ipython3",
   "version": "3.7.7"
  }
 },
 "nbformat": 4,
 "nbformat_minor": 4
}
